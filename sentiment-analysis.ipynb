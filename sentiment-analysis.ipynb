{
 "cells": [
  {
   "cell_type": "code",
   "execution_count": 1,
   "id": "initial_id",
   "metadata": {
    "ExecuteTime": {
     "end_time": "2024-12-19T12:29:21.481012Z",
     "start_time": "2024-12-19T12:29:21.237532Z"
    },
    "collapsed": true
   },
   "outputs": [],
   "source": [
    "import pandas as pd\n",
    "\n",
    "books = pd.read_csv(\"books_with_categories.csv\")"
   ]
  },
  {
   "cell_type": "code",
   "execution_count": 7,
   "id": "eef92ea3ccd87b03",
   "metadata": {
    "ExecuteTime": {
     "end_time": "2024-12-19T12:29:23.468616Z",
     "start_time": "2024-12-19T12:29:21.490078Z"
    }
   },
   "outputs": [
    {
     "name": "stderr",
     "output_type": "stream",
     "text": [
      "Device set to use cpu\n"
     ]
    },
    {
     "data": {
      "text/plain": [
       "[[{'label': 'joy', 'score': 0.9771687984466553},\n",
       "  {'label': 'surprise', 'score': 0.008528684265911579},\n",
       "  {'label': 'neutral', 'score': 0.0057645998895168304},\n",
       "  {'label': 'anger', 'score': 0.004419783595949411},\n",
       "  {'label': 'sadness', 'score': 0.002092393347993493},\n",
       "  {'label': 'disgust', 'score': 0.001611993182450533},\n",
       "  {'label': 'fear', 'score': 0.00041385178337804973}]]"
      ]
     },
     "execution_count": 7,
     "metadata": {},
     "output_type": "execute_result"
    }
   ],
   "source": [
    "from transformers import pipeline\n",
    "classifier = pipeline(\"text-classification\",\n",
    "                      model=\"j-hartmann/emotion-english-distilroberta-base\",\n",
    "                      top_k = None,\n",
    "                      device = \"cpu\")\n",
    "classifier(\"I love this!\")"
   ]
  },
  {
   "cell_type": "code",
   "execution_count": 8,
   "id": "3fd25cba6879daa8",
   "metadata": {
    "ExecuteTime": {
     "end_time": "2024-12-19T12:29:23.573572Z",
     "start_time": "2024-12-19T12:29:23.568257Z"
    }
   },
   "outputs": [
    {
     "data": {
      "text/plain": [
       "'A NOVEL THAT READERS and critics have been eagerly anticipating for over a decade, Gilead is an astonishingly imagined story of remarkable lives. John Ames is a preacher, the son of a preacher and the grandson (both maternal and paternal) of preachers. It’s 1956 in Gilead, Iowa, towards the end of the Reverend Ames’s life, and he is absorbed in recording his family’s story, a legacy for the young son he will never see grow up. Haunted by his grandfather’s presence, John tells of the rift between his grandfather and his father: the elder, an angry visionary who fought for the abolitionist cause, and his son, an ardent pacifist. He is troubled, too, by his prodigal namesake, Jack (John Ames) Boughton, his best friend’s lost son who returns to Gilead searching for forgiveness and redemption. Told in John Ames’s joyous, rambling voice that finds beauty, humour and truth in the smallest of life’s details, Gilead is a song of celebration and acceptance of the best and the worst the world has to offer. At its heart is a tale of the sacred bonds between fathers and sons, pitch-perfect in style and story, set to dazzle critics and readers alike.'"
      ]
     },
     "execution_count": 8,
     "metadata": {},
     "output_type": "execute_result"
    }
   ],
   "source": [
    "books[\"description\"][0]"
   ]
  },
  {
   "cell_type": "code",
   "execution_count": 9,
   "id": "26778388ee3d079d",
   "metadata": {
    "ExecuteTime": {
     "end_time": "2024-12-19T12:29:23.712905Z",
     "start_time": "2024-12-19T12:29:23.585890Z"
    }
   },
   "outputs": [
    {
     "data": {
      "text/plain": [
       "[[{'label': 'fear', 'score': 0.6548420190811157},\n",
       "  {'label': 'neutral', 'score': 0.16985170543193817},\n",
       "  {'label': 'sadness', 'score': 0.11640869826078415},\n",
       "  {'label': 'surprise', 'score': 0.020700614899396896},\n",
       "  {'label': 'disgust', 'score': 0.019100727513432503},\n",
       "  {'label': 'joy', 'score': 0.015161242336034775},\n",
       "  {'label': 'anger', 'score': 0.003935148939490318}]]"
      ]
     },
     "execution_count": 9,
     "metadata": {},
     "output_type": "execute_result"
    }
   ],
   "source": [
    "classifier(books[\"description\"][0])"
   ]
  },
  {
   "cell_type": "code",
   "execution_count": 10,
   "id": "2c5c26c8bfe955b0",
   "metadata": {
    "ExecuteTime": {
     "end_time": "2024-12-19T12:29:24.148990Z",
     "start_time": "2024-12-19T12:29:23.718044Z"
    }
   },
   "outputs": [
    {
     "data": {
      "text/plain": [
       "[[{'label': 'surprise', 'score': 0.7296026945114136},\n",
       "  {'label': 'neutral', 'score': 0.14038591086864471},\n",
       "  {'label': 'fear', 'score': 0.06816205382347107},\n",
       "  {'label': 'joy', 'score': 0.04794233292341232},\n",
       "  {'label': 'anger', 'score': 0.009156356565654278},\n",
       "  {'label': 'disgust', 'score': 0.00262847519479692},\n",
       "  {'label': 'sadness', 'score': 0.002122161677107215}],\n",
       " [{'label': 'neutral', 'score': 0.4493708908557892},\n",
       "  {'label': 'disgust', 'score': 0.27359166741371155},\n",
       "  {'label': 'joy', 'score': 0.10908298939466476},\n",
       "  {'label': 'sadness', 'score': 0.09362702071666718},\n",
       "  {'label': 'anger', 'score': 0.040478240698575974},\n",
       "  {'label': 'surprise', 'score': 0.026970187202095985},\n",
       "  {'label': 'fear', 'score': 0.006879050750285387}],\n",
       " [{'label': 'neutral', 'score': 0.6462163925170898},\n",
       "  {'label': 'sadness', 'score': 0.2427329570055008},\n",
       "  {'label': 'disgust', 'score': 0.043422624468803406},\n",
       "  {'label': 'surprise', 'score': 0.028300542384386063},\n",
       "  {'label': 'joy', 'score': 0.014211481437087059},\n",
       "  {'label': 'fear', 'score': 0.014084093272686005},\n",
       "  {'label': 'anger', 'score': 0.011031883768737316}],\n",
       " [{'label': 'fear', 'score': 0.9281684160232544},\n",
       "  {'label': 'anger', 'score': 0.03219075873494148},\n",
       "  {'label': 'neutral', 'score': 0.012808679603040218},\n",
       "  {'label': 'sadness', 'score': 0.008756879717111588},\n",
       "  {'label': 'surprise', 'score': 0.00859789364039898},\n",
       "  {'label': 'disgust', 'score': 0.008431828580796719},\n",
       "  {'label': 'joy', 'score': 0.001045581535436213}],\n",
       " [{'label': 'sadness', 'score': 0.9671575427055359},\n",
       "  {'label': 'neutral', 'score': 0.01510414108633995},\n",
       "  {'label': 'disgust', 'score': 0.00648058345541358},\n",
       "  {'label': 'fear', 'score': 0.005393994972109795},\n",
       "  {'label': 'surprise', 'score': 0.0022869419772177935},\n",
       "  {'label': 'anger', 'score': 0.0018428878393024206},\n",
       "  {'label': 'joy', 'score': 0.001733877114020288}],\n",
       " [{'label': 'joy', 'score': 0.9327976107597351},\n",
       "  {'label': 'disgust', 'score': 0.03771747648715973},\n",
       "  {'label': 'neutral', 'score': 0.015891924500465393},\n",
       "  {'label': 'sadness', 'score': 0.006444526836276054},\n",
       "  {'label': 'anger', 'score': 0.00502500357106328},\n",
       "  {'label': 'surprise', 'score': 0.0015812094788998365},\n",
       "  {'label': 'fear', 'score': 0.0005423084367066622}],\n",
       " [{'label': 'joy', 'score': 0.6528693437576294},\n",
       "  {'label': 'neutral', 'score': 0.2542758882045746},\n",
       "  {'label': 'surprise', 'score': 0.06808322668075562},\n",
       "  {'label': 'sadness', 'score': 0.009908996522426605},\n",
       "  {'label': 'disgust', 'score': 0.0065122018568217754},\n",
       "  {'label': 'anger', 'score': 0.004821314476430416},\n",
       "  {'label': 'fear', 'score': 0.003529015928506851}],\n",
       " [{'label': 'neutral', 'score': 0.5494769215583801},\n",
       "  {'label': 'sadness', 'score': 0.11169013381004333},\n",
       "  {'label': 'disgust', 'score': 0.10400667041540146},\n",
       "  {'label': 'surprise', 'score': 0.07876546680927277},\n",
       "  {'label': 'anger', 'score': 0.06413360685110092},\n",
       "  {'label': 'fear', 'score': 0.051362790167331696},\n",
       "  {'label': 'joy', 'score': 0.040564391762018204}]]"
      ]
     },
     "execution_count": 10,
     "metadata": {},
     "output_type": "execute_result"
    }
   ],
   "source": [
    "classifier(books[\"description\"][0].split(\".\"))"
   ]
  },
  {
   "cell_type": "code",
   "execution_count": 11,
   "id": "8e8cd3b1b76d9e2",
   "metadata": {
    "ExecuteTime": {
     "end_time": "2024-12-19T12:29:24.243754Z",
     "start_time": "2024-12-19T12:29:24.154029Z"
    }
   },
   "outputs": [],
   "source": [
    "sentences = books[\"description\"][0].split(\".\")\n",
    "predictions = classifier(sentences)"
   ]
  },
  {
   "cell_type": "code",
   "execution_count": 12,
   "id": "425d9b0a53bfe3c6",
   "metadata": {
    "ExecuteTime": {
     "end_time": "2024-12-19T12:29:24.251068Z",
     "start_time": "2024-12-19T12:29:24.249034Z"
    }
   },
   "outputs": [
    {
     "data": {
      "text/plain": [
       "'A NOVEL THAT READERS and critics have been eagerly anticipating for over a decade, Gilead is an astonishingly imagined story of remarkable lives'"
      ]
     },
     "execution_count": 12,
     "metadata": {},
     "output_type": "execute_result"
    }
   ],
   "source": [
    "sentences[0]"
   ]
  },
  {
   "cell_type": "code",
   "execution_count": 13,
   "id": "896f9f0f2d3d8f2f",
   "metadata": {
    "ExecuteTime": {
     "end_time": "2024-12-19T12:29:24.258225Z",
     "start_time": "2024-12-19T12:29:24.256262Z"
    }
   },
   "outputs": [
    {
     "data": {
      "text/plain": [
       "[{'label': 'surprise', 'score': 0.7296026945114136},\n",
       " {'label': 'neutral', 'score': 0.14038591086864471},\n",
       " {'label': 'fear', 'score': 0.06816205382347107},\n",
       " {'label': 'joy', 'score': 0.04794233292341232},\n",
       " {'label': 'anger', 'score': 0.009156356565654278},\n",
       " {'label': 'disgust', 'score': 0.00262847519479692},\n",
       " {'label': 'sadness', 'score': 0.002122161677107215}]"
      ]
     },
     "execution_count": 13,
     "metadata": {},
     "output_type": "execute_result"
    }
   ],
   "source": [
    "predictions[0]"
   ]
  },
  {
   "cell_type": "code",
   "execution_count": 14,
   "id": "105f760b95916483",
   "metadata": {
    "ExecuteTime": {
     "end_time": "2024-12-19T12:29:24.376326Z",
     "start_time": "2024-12-19T12:29:24.374424Z"
    }
   },
   "outputs": [
    {
     "data": {
      "text/plain": [
       "' Haunted by his grandfather’s presence, John tells of the rift between his grandfather and his father: the elder, an angry visionary who fought for the abolitionist cause, and his son, an ardent pacifist'"
      ]
     },
     "execution_count": 14,
     "metadata": {},
     "output_type": "execute_result"
    }
   ],
   "source": [
    "sentences[3]"
   ]
  },
  {
   "cell_type": "code",
   "execution_count": 15,
   "id": "67d1162e9c12d789",
   "metadata": {
    "ExecuteTime": {
     "end_time": "2024-12-19T12:29:26.816408Z",
     "start_time": "2024-12-19T12:29:26.813852Z"
    }
   },
   "outputs": [
    {
     "data": {
      "text/plain": [
       "[{'label': 'fear', 'score': 0.9281684160232544},\n",
       " {'label': 'anger', 'score': 0.03219075873494148},\n",
       " {'label': 'neutral', 'score': 0.012808679603040218},\n",
       " {'label': 'sadness', 'score': 0.008756879717111588},\n",
       " {'label': 'surprise', 'score': 0.00859789364039898},\n",
       " {'label': 'disgust', 'score': 0.008431828580796719},\n",
       " {'label': 'joy', 'score': 0.001045581535436213}]"
      ]
     },
     "execution_count": 15,
     "metadata": {},
     "output_type": "execute_result"
    }
   ],
   "source": [
    "predictions[3]"
   ]
  },
  {
   "cell_type": "code",
   "execution_count": 16,
   "id": "d454e5691ccfb40e",
   "metadata": {
    "ExecuteTime": {
     "end_time": "2024-12-19T12:32:18.095726Z",
     "start_time": "2024-12-19T12:32:18.091592Z"
    }
   },
   "outputs": [
    {
     "data": {
      "text/plain": [
       "[[{'label': 'surprise', 'score': 0.7296026945114136},\n",
       "  {'label': 'neutral', 'score': 0.14038591086864471},\n",
       "  {'label': 'fear', 'score': 0.06816205382347107},\n",
       "  {'label': 'joy', 'score': 0.04794233292341232},\n",
       "  {'label': 'anger', 'score': 0.009156356565654278},\n",
       "  {'label': 'disgust', 'score': 0.00262847519479692},\n",
       "  {'label': 'sadness', 'score': 0.002122161677107215}],\n",
       " [{'label': 'neutral', 'score': 0.4493708908557892},\n",
       "  {'label': 'disgust', 'score': 0.27359166741371155},\n",
       "  {'label': 'joy', 'score': 0.10908298939466476},\n",
       "  {'label': 'sadness', 'score': 0.09362702071666718},\n",
       "  {'label': 'anger', 'score': 0.040478240698575974},\n",
       "  {'label': 'surprise', 'score': 0.026970187202095985},\n",
       "  {'label': 'fear', 'score': 0.006879050750285387}],\n",
       " [{'label': 'neutral', 'score': 0.6462163925170898},\n",
       "  {'label': 'sadness', 'score': 0.2427329570055008},\n",
       "  {'label': 'disgust', 'score': 0.043422624468803406},\n",
       "  {'label': 'surprise', 'score': 0.028300542384386063},\n",
       "  {'label': 'joy', 'score': 0.014211481437087059},\n",
       "  {'label': 'fear', 'score': 0.014084093272686005},\n",
       "  {'label': 'anger', 'score': 0.011031883768737316}],\n",
       " [{'label': 'fear', 'score': 0.9281684160232544},\n",
       "  {'label': 'anger', 'score': 0.03219075873494148},\n",
       "  {'label': 'neutral', 'score': 0.012808679603040218},\n",
       "  {'label': 'sadness', 'score': 0.008756879717111588},\n",
       "  {'label': 'surprise', 'score': 0.00859789364039898},\n",
       "  {'label': 'disgust', 'score': 0.008431828580796719},\n",
       "  {'label': 'joy', 'score': 0.001045581535436213}],\n",
       " [{'label': 'sadness', 'score': 0.9671575427055359},\n",
       "  {'label': 'neutral', 'score': 0.01510414108633995},\n",
       "  {'label': 'disgust', 'score': 0.00648058345541358},\n",
       "  {'label': 'fear', 'score': 0.005393994972109795},\n",
       "  {'label': 'surprise', 'score': 0.0022869419772177935},\n",
       "  {'label': 'anger', 'score': 0.0018428878393024206},\n",
       "  {'label': 'joy', 'score': 0.001733877114020288}],\n",
       " [{'label': 'joy', 'score': 0.9327976107597351},\n",
       "  {'label': 'disgust', 'score': 0.03771747648715973},\n",
       "  {'label': 'neutral', 'score': 0.015891924500465393},\n",
       "  {'label': 'sadness', 'score': 0.006444526836276054},\n",
       "  {'label': 'anger', 'score': 0.00502500357106328},\n",
       "  {'label': 'surprise', 'score': 0.0015812094788998365},\n",
       "  {'label': 'fear', 'score': 0.0005423084367066622}],\n",
       " [{'label': 'joy', 'score': 0.6528693437576294},\n",
       "  {'label': 'neutral', 'score': 0.2542758882045746},\n",
       "  {'label': 'surprise', 'score': 0.06808322668075562},\n",
       "  {'label': 'sadness', 'score': 0.009908996522426605},\n",
       "  {'label': 'disgust', 'score': 0.0065122018568217754},\n",
       "  {'label': 'anger', 'score': 0.004821314476430416},\n",
       "  {'label': 'fear', 'score': 0.003529015928506851}],\n",
       " [{'label': 'neutral', 'score': 0.5494769215583801},\n",
       "  {'label': 'sadness', 'score': 0.11169013381004333},\n",
       "  {'label': 'disgust', 'score': 0.10400667041540146},\n",
       "  {'label': 'surprise', 'score': 0.07876546680927277},\n",
       "  {'label': 'anger', 'score': 0.06413360685110092},\n",
       "  {'label': 'fear', 'score': 0.051362790167331696},\n",
       "  {'label': 'joy', 'score': 0.040564391762018204}]]"
      ]
     },
     "execution_count": 16,
     "metadata": {},
     "output_type": "execute_result"
    }
   ],
   "source": [
    "predictions"
   ]
  },
  {
   "cell_type": "code",
   "execution_count": 17,
   "id": "16a435fce5bae2e7",
   "metadata": {
    "ExecuteTime": {
     "end_time": "2024-12-19T12:32:50.357217Z",
     "start_time": "2024-12-19T12:32:50.355044Z"
    }
   },
   "outputs": [
    {
     "data": {
      "text/plain": [
       "[{'label': 'anger', 'score': 0.009156356565654278},\n",
       " {'label': 'disgust', 'score': 0.00262847519479692},\n",
       " {'label': 'fear', 'score': 0.06816205382347107},\n",
       " {'label': 'joy', 'score': 0.04794233292341232},\n",
       " {'label': 'neutral', 'score': 0.14038591086864471},\n",
       " {'label': 'sadness', 'score': 0.002122161677107215},\n",
       " {'label': 'surprise', 'score': 0.7296026945114136}]"
      ]
     },
     "execution_count": 17,
     "metadata": {},
     "output_type": "execute_result"
    }
   ],
   "source": [
    "sorted(predictions[0], key=lambda x: x[\"label\"])"
   ]
  },
  {
   "cell_type": "code",
   "execution_count": 18,
   "id": "9a79332958072c6f",
   "metadata": {
    "ExecuteTime": {
     "end_time": "2024-12-19T12:41:11.731210Z",
     "start_time": "2024-12-19T12:41:11.727719Z"
    }
   },
   "outputs": [],
   "source": [
    "import numpy as np\n",
    "\n",
    "emotion_labels = [\"anger\", \"disgust\", \"fear\", \"joy\", \"sadness\", \"surprise\", \"neutral\"]\n",
    "isbn = []\n",
    "emotion_scores = {label: [] for label in emotion_labels}\n",
    "\n",
    "def calculate_max_emotion_scores(predictions):\n",
    "    per_emotion_scores = {label: [] for label in emotion_labels}\n",
    "    for prediction in predictions:\n",
    "        sorted_predictions = sorted(prediction, key=lambda x: x[\"label\"])\n",
    "        for index, label in enumerate(emotion_labels):\n",
    "            per_emotion_scores[label].append(sorted_predictions[index][\"score\"])\n",
    "    return {label: np.max(scores) for label, scores in per_emotion_scores.items()}"
   ]
  },
  {
   "cell_type": "code",
   "execution_count": 19,
   "id": "33a35cd7b4a90826",
   "metadata": {
    "ExecuteTime": {
     "end_time": "2024-12-19T12:42:34.418110Z",
     "start_time": "2024-12-19T12:42:32.443468Z"
    }
   },
   "outputs": [],
   "source": [
    "for i in range(10):\n",
    "    isbn.append(books[\"isbn13\"][i])\n",
    "    sentences = books[\"description\"][i].split(\".\")\n",
    "    predictions = classifier(sentences)\n",
    "    max_scores = calculate_max_emotion_scores(predictions)\n",
    "    for label in emotion_labels:\n",
    "        emotion_scores[label].append(max_scores[label])"
   ]
  },
  {
   "cell_type": "code",
   "execution_count": 20,
   "id": "616839b4eb789732",
   "metadata": {
    "ExecuteTime": {
     "end_time": "2024-12-19T12:42:42.455617Z",
     "start_time": "2024-12-19T12:42:42.452515Z"
    }
   },
   "outputs": [
    {
     "data": {
      "text/plain": [
       "{'anger': [0.06413360685110092,\n",
       "  0.6126182675361633,\n",
       "  0.06413360685110092,\n",
       "  0.3514830768108368,\n",
       "  0.08141258358955383,\n",
       "  0.23222428560256958,\n",
       "  0.5381837487220764,\n",
       "  0.06413360685110092,\n",
       "  0.30066993832588196,\n",
       "  0.06413360685110092],\n",
       " 'disgust': [0.27359166741371155,\n",
       "  0.3482854664325714,\n",
       "  0.10400667041540146,\n",
       "  0.15072284638881683,\n",
       "  0.18449555337429047,\n",
       "  0.7271754741668701,\n",
       "  0.15585492551326752,\n",
       "  0.10400667041540146,\n",
       "  0.2794816195964813,\n",
       "  0.17792817950248718],\n",
       " 'fear': [0.9281684160232544,\n",
       "  0.942527711391449,\n",
       "  0.9723208546638489,\n",
       "  0.36070629954338074,\n",
       "  0.09504328668117523,\n",
       "  0.051362790167331696,\n",
       "  0.7474278807640076,\n",
       "  0.40449655055999756,\n",
       "  0.9155243635177612,\n",
       "  0.051362790167331696],\n",
       " 'joy': [0.9327976107597351,\n",
       "  0.7044217586517334,\n",
       "  0.7672367095947266,\n",
       "  0.25188079476356506,\n",
       "  0.040564391762018204,\n",
       "  0.043375857174396515,\n",
       "  0.8725653886795044,\n",
       "  0.040564391762018204,\n",
       "  0.040564391762018204,\n",
       "  0.040564391762018204],\n",
       " 'sadness': [0.6462163925170898,\n",
       "  0.8879395127296448,\n",
       "  0.5494769215583801,\n",
       "  0.7326854467391968,\n",
       "  0.8843894600868225,\n",
       "  0.6213931441307068,\n",
       "  0.7121943235397339,\n",
       "  0.5494769215583801,\n",
       "  0.8402894735336304,\n",
       "  0.8603723645210266],\n",
       " 'surprise': [0.9671575427055359,\n",
       "  0.11169013381004333,\n",
       "  0.11169013381004333,\n",
       "  0.11169013381004333,\n",
       "  0.4758807420730591,\n",
       "  0.11169013381004333,\n",
       "  0.4079992473125458,\n",
       "  0.8202817440032959,\n",
       "  0.3544597625732422,\n",
       "  0.11169013381004333],\n",
       " 'neutral': [0.7296026945114136,\n",
       "  0.2525448203086853,\n",
       "  0.07876546680927277,\n",
       "  0.07876546680927277,\n",
       "  0.07876546680927277,\n",
       "  0.27190229296684265,\n",
       "  0.07876546680927277,\n",
       "  0.23448722064495087,\n",
       "  0.13561420142650604,\n",
       "  0.07876546680927277]}"
      ]
     },
     "execution_count": 20,
     "metadata": {},
     "output_type": "execute_result"
    }
   ],
   "source": [
    "emotion_scores"
   ]
  },
  {
   "cell_type": "code",
   "execution_count": 21,
   "id": "82131382aa7f6c67",
   "metadata": {
    "ExecuteTime": {
     "end_time": "2024-12-19T12:54:13.981946Z",
     "start_time": "2024-12-19T12:44:26.497501Z"
    }
   },
   "outputs": [
    {
     "name": "stderr",
     "output_type": "stream",
     "text": [
      "100%|██████████| 5197/5197 [09:02<00:00,  9.58it/s]\n"
     ]
    }
   ],
   "source": [
    "from tqdm import tqdm\n",
    "\n",
    "emotion_labels = [\"anger\", \"disgust\", \"fear\", \"joy\", \"sadness\", \"surprise\", \"neutral\"]\n",
    "isbn = []\n",
    "emotion_scores = {label: [] for label in emotion_labels}\n",
    "\n",
    "for i in tqdm(range(len(books))):\n",
    "    isbn.append(books[\"isbn13\"][i])\n",
    "    sentences = books[\"description\"][i].split(\".\")\n",
    "    predictions = classifier(sentences)\n",
    "    max_scores = calculate_max_emotion_scores(predictions)\n",
    "    for label in emotion_labels:\n",
    "        emotion_scores[label].append(max_scores[label])"
   ]
  },
  {
   "cell_type": "code",
   "execution_count": 22,
   "id": "c052d474cf0c1c87",
   "metadata": {
    "ExecuteTime": {
     "end_time": "2024-12-19T12:57:42.942959Z",
     "start_time": "2024-12-19T12:57:42.930140Z"
    }
   },
   "outputs": [],
   "source": [
    "emotions_df = pd.DataFrame(emotion_scores)\n",
    "emotions_df[\"isbn13\"] = isbn"
   ]
  },
  {
   "cell_type": "code",
   "execution_count": 23,
   "id": "13889fb9d6d49912",
   "metadata": {
    "ExecuteTime": {
     "end_time": "2024-12-19T12:57:47.977121Z",
     "start_time": "2024-12-19T12:57:47.970179Z"
    }
   },
   "outputs": [
    {
     "data": {
      "text/html": [
       "<div>\n",
       "<style scoped>\n",
       "    .dataframe tbody tr th:only-of-type {\n",
       "        vertical-align: middle;\n",
       "    }\n",
       "\n",
       "    .dataframe tbody tr th {\n",
       "        vertical-align: top;\n",
       "    }\n",
       "\n",
       "    .dataframe thead th {\n",
       "        text-align: right;\n",
       "    }\n",
       "</style>\n",
       "<table border=\"1\" class=\"dataframe\">\n",
       "  <thead>\n",
       "    <tr style=\"text-align: right;\">\n",
       "      <th></th>\n",
       "      <th>anger</th>\n",
       "      <th>disgust</th>\n",
       "      <th>fear</th>\n",
       "      <th>joy</th>\n",
       "      <th>sadness</th>\n",
       "      <th>surprise</th>\n",
       "      <th>neutral</th>\n",
       "      <th>isbn13</th>\n",
       "    </tr>\n",
       "  </thead>\n",
       "  <tbody>\n",
       "    <tr>\n",
       "      <th>0</th>\n",
       "      <td>0.064134</td>\n",
       "      <td>0.273592</td>\n",
       "      <td>0.928168</td>\n",
       "      <td>0.932798</td>\n",
       "      <td>0.646216</td>\n",
       "      <td>0.967158</td>\n",
       "      <td>0.729603</td>\n",
       "      <td>9780002005883</td>\n",
       "    </tr>\n",
       "    <tr>\n",
       "      <th>1</th>\n",
       "      <td>0.612618</td>\n",
       "      <td>0.348285</td>\n",
       "      <td>0.942528</td>\n",
       "      <td>0.704422</td>\n",
       "      <td>0.887940</td>\n",
       "      <td>0.111690</td>\n",
       "      <td>0.252545</td>\n",
       "      <td>9780002261982</td>\n",
       "    </tr>\n",
       "    <tr>\n",
       "      <th>2</th>\n",
       "      <td>0.064134</td>\n",
       "      <td>0.104007</td>\n",
       "      <td>0.972321</td>\n",
       "      <td>0.767237</td>\n",
       "      <td>0.549477</td>\n",
       "      <td>0.111690</td>\n",
       "      <td>0.078765</td>\n",
       "      <td>9780006178736</td>\n",
       "    </tr>\n",
       "    <tr>\n",
       "      <th>3</th>\n",
       "      <td>0.351483</td>\n",
       "      <td>0.150723</td>\n",
       "      <td>0.360706</td>\n",
       "      <td>0.251881</td>\n",
       "      <td>0.732685</td>\n",
       "      <td>0.111690</td>\n",
       "      <td>0.078765</td>\n",
       "      <td>9780006280897</td>\n",
       "    </tr>\n",
       "    <tr>\n",
       "      <th>4</th>\n",
       "      <td>0.081413</td>\n",
       "      <td>0.184496</td>\n",
       "      <td>0.095043</td>\n",
       "      <td>0.040564</td>\n",
       "      <td>0.884389</td>\n",
       "      <td>0.475881</td>\n",
       "      <td>0.078765</td>\n",
       "      <td>9780006280934</td>\n",
       "    </tr>\n",
       "    <tr>\n",
       "      <th>...</th>\n",
       "      <td>...</td>\n",
       "      <td>...</td>\n",
       "      <td>...</td>\n",
       "      <td>...</td>\n",
       "      <td>...</td>\n",
       "      <td>...</td>\n",
       "      <td>...</td>\n",
       "      <td>...</td>\n",
       "    </tr>\n",
       "    <tr>\n",
       "      <th>5192</th>\n",
       "      <td>0.148209</td>\n",
       "      <td>0.030643</td>\n",
       "      <td>0.919165</td>\n",
       "      <td>0.255170</td>\n",
       "      <td>0.853722</td>\n",
       "      <td>0.980877</td>\n",
       "      <td>0.030656</td>\n",
       "      <td>9788172235222</td>\n",
       "    </tr>\n",
       "    <tr>\n",
       "      <th>5193</th>\n",
       "      <td>0.064134</td>\n",
       "      <td>0.114383</td>\n",
       "      <td>0.051363</td>\n",
       "      <td>0.400263</td>\n",
       "      <td>0.883198</td>\n",
       "      <td>0.111690</td>\n",
       "      <td>0.227765</td>\n",
       "      <td>9788173031014</td>\n",
       "    </tr>\n",
       "    <tr>\n",
       "      <th>5194</th>\n",
       "      <td>0.009997</td>\n",
       "      <td>0.009929</td>\n",
       "      <td>0.339217</td>\n",
       "      <td>0.947779</td>\n",
       "      <td>0.375755</td>\n",
       "      <td>0.066685</td>\n",
       "      <td>0.057625</td>\n",
       "      <td>9788179921623</td>\n",
       "    </tr>\n",
       "    <tr>\n",
       "      <th>5195</th>\n",
       "      <td>0.064134</td>\n",
       "      <td>0.104007</td>\n",
       "      <td>0.459270</td>\n",
       "      <td>0.759456</td>\n",
       "      <td>0.951104</td>\n",
       "      <td>0.368112</td>\n",
       "      <td>0.078765</td>\n",
       "      <td>9788185300535</td>\n",
       "    </tr>\n",
       "    <tr>\n",
       "      <th>5196</th>\n",
       "      <td>0.064134</td>\n",
       "      <td>0.104007</td>\n",
       "      <td>0.051363</td>\n",
       "      <td>0.958549</td>\n",
       "      <td>0.915193</td>\n",
       "      <td>0.111690</td>\n",
       "      <td>0.078765</td>\n",
       "      <td>9789027712059</td>\n",
       "    </tr>\n",
       "  </tbody>\n",
       "</table>\n",
       "<p>5197 rows × 8 columns</p>\n",
       "</div>"
      ],
      "text/plain": [
       "         anger   disgust      fear       joy   sadness  surprise   neutral  \\\n",
       "0     0.064134  0.273592  0.928168  0.932798  0.646216  0.967158  0.729603   \n",
       "1     0.612618  0.348285  0.942528  0.704422  0.887940  0.111690  0.252545   \n",
       "2     0.064134  0.104007  0.972321  0.767237  0.549477  0.111690  0.078765   \n",
       "3     0.351483  0.150723  0.360706  0.251881  0.732685  0.111690  0.078765   \n",
       "4     0.081413  0.184496  0.095043  0.040564  0.884389  0.475881  0.078765   \n",
       "...        ...       ...       ...       ...       ...       ...       ...   \n",
       "5192  0.148209  0.030643  0.919165  0.255170  0.853722  0.980877  0.030656   \n",
       "5193  0.064134  0.114383  0.051363  0.400263  0.883198  0.111690  0.227765   \n",
       "5194  0.009997  0.009929  0.339217  0.947779  0.375755  0.066685  0.057625   \n",
       "5195  0.064134  0.104007  0.459270  0.759456  0.951104  0.368112  0.078765   \n",
       "5196  0.064134  0.104007  0.051363  0.958549  0.915193  0.111690  0.078765   \n",
       "\n",
       "             isbn13  \n",
       "0     9780002005883  \n",
       "1     9780002261982  \n",
       "2     9780006178736  \n",
       "3     9780006280897  \n",
       "4     9780006280934  \n",
       "...             ...  \n",
       "5192  9788172235222  \n",
       "5193  9788173031014  \n",
       "5194  9788179921623  \n",
       "5195  9788185300535  \n",
       "5196  9789027712059  \n",
       "\n",
       "[5197 rows x 8 columns]"
      ]
     },
     "execution_count": 23,
     "metadata": {},
     "output_type": "execute_result"
    }
   ],
   "source": [
    "emotions_df"
   ]
  },
  {
   "cell_type": "code",
   "execution_count": 24,
   "id": "d271f8b89e6c7f38",
   "metadata": {
    "ExecuteTime": {
     "end_time": "2024-12-19T12:59:16.242923Z",
     "start_time": "2024-12-19T12:59:16.238270Z"
    }
   },
   "outputs": [],
   "source": [
    "books = pd.merge(books, emotions_df, on = \"isbn13\")"
   ]
  },
  {
   "cell_type": "code",
   "execution_count": 25,
   "id": "337ed4ed30a94c66",
   "metadata": {
    "ExecuteTime": {
     "end_time": "2024-12-19T12:59:18.230693Z",
     "start_time": "2024-12-19T12:59:18.221809Z"
    }
   },
   "outputs": [
    {
     "data": {
      "text/html": [
       "<div>\n",
       "<style scoped>\n",
       "    .dataframe tbody tr th:only-of-type {\n",
       "        vertical-align: middle;\n",
       "    }\n",
       "\n",
       "    .dataframe tbody tr th {\n",
       "        vertical-align: top;\n",
       "    }\n",
       "\n",
       "    .dataframe thead th {\n",
       "        text-align: right;\n",
       "    }\n",
       "</style>\n",
       "<table border=\"1\" class=\"dataframe\">\n",
       "  <thead>\n",
       "    <tr style=\"text-align: right;\">\n",
       "      <th></th>\n",
       "      <th>isbn13</th>\n",
       "      <th>isbn10</th>\n",
       "      <th>title</th>\n",
       "      <th>authors</th>\n",
       "      <th>categories</th>\n",
       "      <th>thumbnail</th>\n",
       "      <th>description</th>\n",
       "      <th>published_year</th>\n",
       "      <th>average_rating</th>\n",
       "      <th>num_pages</th>\n",
       "      <th>...</th>\n",
       "      <th>title_and_subtitle</th>\n",
       "      <th>tagged_description</th>\n",
       "      <th>simple_categories</th>\n",
       "      <th>anger</th>\n",
       "      <th>disgust</th>\n",
       "      <th>fear</th>\n",
       "      <th>joy</th>\n",
       "      <th>sadness</th>\n",
       "      <th>surprise</th>\n",
       "      <th>neutral</th>\n",
       "    </tr>\n",
       "  </thead>\n",
       "  <tbody>\n",
       "    <tr>\n",
       "      <th>0</th>\n",
       "      <td>9780002005883</td>\n",
       "      <td>0002005883</td>\n",
       "      <td>Gilead</td>\n",
       "      <td>Marilynne Robinson</td>\n",
       "      <td>Fiction</td>\n",
       "      <td>http://books.google.com/books/content?id=KQZCP...</td>\n",
       "      <td>A NOVEL THAT READERS and critics have been eag...</td>\n",
       "      <td>2004.0</td>\n",
       "      <td>3.85</td>\n",
       "      <td>247.0</td>\n",
       "      <td>...</td>\n",
       "      <td>Gilead</td>\n",
       "      <td>9780002005883 A NOVEL THAT READERS and critics...</td>\n",
       "      <td>Fiction</td>\n",
       "      <td>0.064134</td>\n",
       "      <td>0.273592</td>\n",
       "      <td>0.928168</td>\n",
       "      <td>0.932798</td>\n",
       "      <td>0.646216</td>\n",
       "      <td>0.967158</td>\n",
       "      <td>0.729603</td>\n",
       "    </tr>\n",
       "    <tr>\n",
       "      <th>1</th>\n",
       "      <td>9780002261982</td>\n",
       "      <td>0002261987</td>\n",
       "      <td>Spider's Web</td>\n",
       "      <td>Charles Osborne;Agatha Christie</td>\n",
       "      <td>Detective and mystery stories</td>\n",
       "      <td>http://books.google.com/books/content?id=gA5GP...</td>\n",
       "      <td>A new 'Christie for Christmas' -- a full-lengt...</td>\n",
       "      <td>2000.0</td>\n",
       "      <td>3.83</td>\n",
       "      <td>241.0</td>\n",
       "      <td>...</td>\n",
       "      <td>Spider's Web: A Novel</td>\n",
       "      <td>9780002261982 A new 'Christie for Christmas' -...</td>\n",
       "      <td>Fiction</td>\n",
       "      <td>0.612618</td>\n",
       "      <td>0.348285</td>\n",
       "      <td>0.942528</td>\n",
       "      <td>0.704422</td>\n",
       "      <td>0.887940</td>\n",
       "      <td>0.111690</td>\n",
       "      <td>0.252545</td>\n",
       "    </tr>\n",
       "    <tr>\n",
       "      <th>2</th>\n",
       "      <td>9780006178736</td>\n",
       "      <td>0006178731</td>\n",
       "      <td>Rage of angels</td>\n",
       "      <td>Sidney Sheldon</td>\n",
       "      <td>Fiction</td>\n",
       "      <td>http://books.google.com/books/content?id=FKo2T...</td>\n",
       "      <td>A memorable, mesmerizing heroine Jennifer -- b...</td>\n",
       "      <td>1993.0</td>\n",
       "      <td>3.93</td>\n",
       "      <td>512.0</td>\n",
       "      <td>...</td>\n",
       "      <td>Rage of angels</td>\n",
       "      <td>9780006178736 A memorable, mesmerizing heroine...</td>\n",
       "      <td>Fiction</td>\n",
       "      <td>0.064134</td>\n",
       "      <td>0.104007</td>\n",
       "      <td>0.972321</td>\n",
       "      <td>0.767237</td>\n",
       "      <td>0.549477</td>\n",
       "      <td>0.111690</td>\n",
       "      <td>0.078765</td>\n",
       "    </tr>\n",
       "    <tr>\n",
       "      <th>3</th>\n",
       "      <td>9780006280897</td>\n",
       "      <td>0006280897</td>\n",
       "      <td>The Four Loves</td>\n",
       "      <td>Clive Staples Lewis</td>\n",
       "      <td>Christian life</td>\n",
       "      <td>http://books.google.com/books/content?id=XhQ5X...</td>\n",
       "      <td>Lewis' work on the nature of love divides love...</td>\n",
       "      <td>2002.0</td>\n",
       "      <td>4.15</td>\n",
       "      <td>170.0</td>\n",
       "      <td>...</td>\n",
       "      <td>The Four Loves</td>\n",
       "      <td>9780006280897 Lewis' work on the nature of lov...</td>\n",
       "      <td>Nonfiction</td>\n",
       "      <td>0.351483</td>\n",
       "      <td>0.150723</td>\n",
       "      <td>0.360706</td>\n",
       "      <td>0.251881</td>\n",
       "      <td>0.732685</td>\n",
       "      <td>0.111690</td>\n",
       "      <td>0.078765</td>\n",
       "    </tr>\n",
       "    <tr>\n",
       "      <th>4</th>\n",
       "      <td>9780006280934</td>\n",
       "      <td>0006280935</td>\n",
       "      <td>The Problem of Pain</td>\n",
       "      <td>Clive Staples Lewis</td>\n",
       "      <td>Christian life</td>\n",
       "      <td>http://books.google.com/books/content?id=Kk-uV...</td>\n",
       "      <td>\"In The Problem of Pain, C.S. Lewis, one of th...</td>\n",
       "      <td>2002.0</td>\n",
       "      <td>4.09</td>\n",
       "      <td>176.0</td>\n",
       "      <td>...</td>\n",
       "      <td>The Problem of Pain</td>\n",
       "      <td>9780006280934 \"In The Problem of Pain, C.S. Le...</td>\n",
       "      <td>Nonfiction</td>\n",
       "      <td>0.081413</td>\n",
       "      <td>0.184496</td>\n",
       "      <td>0.095043</td>\n",
       "      <td>0.040564</td>\n",
       "      <td>0.884389</td>\n",
       "      <td>0.475881</td>\n",
       "      <td>0.078765</td>\n",
       "    </tr>\n",
       "    <tr>\n",
       "      <th>...</th>\n",
       "      <td>...</td>\n",
       "      <td>...</td>\n",
       "      <td>...</td>\n",
       "      <td>...</td>\n",
       "      <td>...</td>\n",
       "      <td>...</td>\n",
       "      <td>...</td>\n",
       "      <td>...</td>\n",
       "      <td>...</td>\n",
       "      <td>...</td>\n",
       "      <td>...</td>\n",
       "      <td>...</td>\n",
       "      <td>...</td>\n",
       "      <td>...</td>\n",
       "      <td>...</td>\n",
       "      <td>...</td>\n",
       "      <td>...</td>\n",
       "      <td>...</td>\n",
       "      <td>...</td>\n",
       "      <td>...</td>\n",
       "      <td>...</td>\n",
       "    </tr>\n",
       "    <tr>\n",
       "      <th>5192</th>\n",
       "      <td>9788172235222</td>\n",
       "      <td>8172235224</td>\n",
       "      <td>Mistaken Identity</td>\n",
       "      <td>Nayantara Sahgal</td>\n",
       "      <td>Indic fiction (English)</td>\n",
       "      <td>http://books.google.com/books/content?id=q-tKP...</td>\n",
       "      <td>On A Train Journey Home To North India After L...</td>\n",
       "      <td>2003.0</td>\n",
       "      <td>2.93</td>\n",
       "      <td>324.0</td>\n",
       "      <td>...</td>\n",
       "      <td>Mistaken Identity</td>\n",
       "      <td>9788172235222 On A Train Journey Home To North...</td>\n",
       "      <td>Fiction</td>\n",
       "      <td>0.148209</td>\n",
       "      <td>0.030643</td>\n",
       "      <td>0.919165</td>\n",
       "      <td>0.255170</td>\n",
       "      <td>0.853722</td>\n",
       "      <td>0.980877</td>\n",
       "      <td>0.030656</td>\n",
       "    </tr>\n",
       "    <tr>\n",
       "      <th>5193</th>\n",
       "      <td>9788173031014</td>\n",
       "      <td>8173031010</td>\n",
       "      <td>Journey to the East</td>\n",
       "      <td>Hermann Hesse</td>\n",
       "      <td>Adventure stories</td>\n",
       "      <td>http://books.google.com/books/content?id=rq6JP...</td>\n",
       "      <td>This book tells the tale of a man who goes on ...</td>\n",
       "      <td>2002.0</td>\n",
       "      <td>3.70</td>\n",
       "      <td>175.0</td>\n",
       "      <td>...</td>\n",
       "      <td>Journey to the East</td>\n",
       "      <td>9788173031014 This book tells the tale of a ma...</td>\n",
       "      <td>Nonfiction</td>\n",
       "      <td>0.064134</td>\n",
       "      <td>0.114383</td>\n",
       "      <td>0.051363</td>\n",
       "      <td>0.400263</td>\n",
       "      <td>0.883198</td>\n",
       "      <td>0.111690</td>\n",
       "      <td>0.227765</td>\n",
       "    </tr>\n",
       "    <tr>\n",
       "      <th>5194</th>\n",
       "      <td>9788179921623</td>\n",
       "      <td>817992162X</td>\n",
       "      <td>The Monk Who Sold His Ferrari: A Fable About F...</td>\n",
       "      <td>Robin Sharma</td>\n",
       "      <td>Health &amp; Fitness</td>\n",
       "      <td>http://books.google.com/books/content?id=c_7mf...</td>\n",
       "      <td>Wisdom to Create a Life of Passion, Purpose, a...</td>\n",
       "      <td>2003.0</td>\n",
       "      <td>3.82</td>\n",
       "      <td>198.0</td>\n",
       "      <td>...</td>\n",
       "      <td>The Monk Who Sold His Ferrari: A Fable About F...</td>\n",
       "      <td>9788179921623 Wisdom to Create a Life of Passi...</td>\n",
       "      <td>Fiction</td>\n",
       "      <td>0.009997</td>\n",
       "      <td>0.009929</td>\n",
       "      <td>0.339217</td>\n",
       "      <td>0.947779</td>\n",
       "      <td>0.375755</td>\n",
       "      <td>0.066685</td>\n",
       "      <td>0.057625</td>\n",
       "    </tr>\n",
       "    <tr>\n",
       "      <th>5195</th>\n",
       "      <td>9788185300535</td>\n",
       "      <td>8185300534</td>\n",
       "      <td>I Am that</td>\n",
       "      <td>Sri Nisargadatta Maharaj;Sudhakar S. Dikshit</td>\n",
       "      <td>Philosophy</td>\n",
       "      <td>http://books.google.com/books/content?id=Fv_JP...</td>\n",
       "      <td>This collection of the timeless teachings of o...</td>\n",
       "      <td>1999.0</td>\n",
       "      <td>4.51</td>\n",
       "      <td>531.0</td>\n",
       "      <td>...</td>\n",
       "      <td>I Am that: Talks with Sri Nisargadatta Maharaj</td>\n",
       "      <td>9788185300535 This collection of the timeless ...</td>\n",
       "      <td>Nonfiction</td>\n",
       "      <td>0.064134</td>\n",
       "      <td>0.104007</td>\n",
       "      <td>0.459270</td>\n",
       "      <td>0.759456</td>\n",
       "      <td>0.951104</td>\n",
       "      <td>0.368112</td>\n",
       "      <td>0.078765</td>\n",
       "    </tr>\n",
       "    <tr>\n",
       "      <th>5196</th>\n",
       "      <td>9789027712059</td>\n",
       "      <td>9027712050</td>\n",
       "      <td>The Berlin Phenomenology</td>\n",
       "      <td>Georg Wilhelm Friedrich Hegel</td>\n",
       "      <td>History</td>\n",
       "      <td>http://books.google.com/books/content?id=Vy7Sk...</td>\n",
       "      <td>Since the three volume edition ofHegel's Philo...</td>\n",
       "      <td>1981.0</td>\n",
       "      <td>0.00</td>\n",
       "      <td>210.0</td>\n",
       "      <td>...</td>\n",
       "      <td>The Berlin Phenomenology</td>\n",
       "      <td>9789027712059 Since the three volume edition o...</td>\n",
       "      <td>Nonfiction</td>\n",
       "      <td>0.064134</td>\n",
       "      <td>0.104007</td>\n",
       "      <td>0.051363</td>\n",
       "      <td>0.958549</td>\n",
       "      <td>0.915193</td>\n",
       "      <td>0.111690</td>\n",
       "      <td>0.078765</td>\n",
       "    </tr>\n",
       "  </tbody>\n",
       "</table>\n",
       "<p>5197 rows × 21 columns</p>\n",
       "</div>"
      ],
      "text/plain": [
       "             isbn13      isbn10  \\\n",
       "0     9780002005883  0002005883   \n",
       "1     9780002261982  0002261987   \n",
       "2     9780006178736  0006178731   \n",
       "3     9780006280897  0006280897   \n",
       "4     9780006280934  0006280935   \n",
       "...             ...         ...   \n",
       "5192  9788172235222  8172235224   \n",
       "5193  9788173031014  8173031010   \n",
       "5194  9788179921623  817992162X   \n",
       "5195  9788185300535  8185300534   \n",
       "5196  9789027712059  9027712050   \n",
       "\n",
       "                                                  title  \\\n",
       "0                                                Gilead   \n",
       "1                                          Spider's Web   \n",
       "2                                        Rage of angels   \n",
       "3                                        The Four Loves   \n",
       "4                                   The Problem of Pain   \n",
       "...                                                 ...   \n",
       "5192                                  Mistaken Identity   \n",
       "5193                                Journey to the East   \n",
       "5194  The Monk Who Sold His Ferrari: A Fable About F...   \n",
       "5195                                          I Am that   \n",
       "5196                           The Berlin Phenomenology   \n",
       "\n",
       "                                           authors  \\\n",
       "0                               Marilynne Robinson   \n",
       "1                  Charles Osborne;Agatha Christie   \n",
       "2                                   Sidney Sheldon   \n",
       "3                              Clive Staples Lewis   \n",
       "4                              Clive Staples Lewis   \n",
       "...                                            ...   \n",
       "5192                              Nayantara Sahgal   \n",
       "5193                                 Hermann Hesse   \n",
       "5194                                  Robin Sharma   \n",
       "5195  Sri Nisargadatta Maharaj;Sudhakar S. Dikshit   \n",
       "5196                 Georg Wilhelm Friedrich Hegel   \n",
       "\n",
       "                         categories  \\\n",
       "0                           Fiction   \n",
       "1     Detective and mystery stories   \n",
       "2                           Fiction   \n",
       "3                    Christian life   \n",
       "4                    Christian life   \n",
       "...                             ...   \n",
       "5192        Indic fiction (English)   \n",
       "5193              Adventure stories   \n",
       "5194               Health & Fitness   \n",
       "5195                     Philosophy   \n",
       "5196                        History   \n",
       "\n",
       "                                              thumbnail  \\\n",
       "0     http://books.google.com/books/content?id=KQZCP...   \n",
       "1     http://books.google.com/books/content?id=gA5GP...   \n",
       "2     http://books.google.com/books/content?id=FKo2T...   \n",
       "3     http://books.google.com/books/content?id=XhQ5X...   \n",
       "4     http://books.google.com/books/content?id=Kk-uV...   \n",
       "...                                                 ...   \n",
       "5192  http://books.google.com/books/content?id=q-tKP...   \n",
       "5193  http://books.google.com/books/content?id=rq6JP...   \n",
       "5194  http://books.google.com/books/content?id=c_7mf...   \n",
       "5195  http://books.google.com/books/content?id=Fv_JP...   \n",
       "5196  http://books.google.com/books/content?id=Vy7Sk...   \n",
       "\n",
       "                                            description  published_year  \\\n",
       "0     A NOVEL THAT READERS and critics have been eag...          2004.0   \n",
       "1     A new 'Christie for Christmas' -- a full-lengt...          2000.0   \n",
       "2     A memorable, mesmerizing heroine Jennifer -- b...          1993.0   \n",
       "3     Lewis' work on the nature of love divides love...          2002.0   \n",
       "4     \"In The Problem of Pain, C.S. Lewis, one of th...          2002.0   \n",
       "...                                                 ...             ...   \n",
       "5192  On A Train Journey Home To North India After L...          2003.0   \n",
       "5193  This book tells the tale of a man who goes on ...          2002.0   \n",
       "5194  Wisdom to Create a Life of Passion, Purpose, a...          2003.0   \n",
       "5195  This collection of the timeless teachings of o...          1999.0   \n",
       "5196  Since the three volume edition ofHegel's Philo...          1981.0   \n",
       "\n",
       "      average_rating  num_pages  ...  \\\n",
       "0               3.85      247.0  ...   \n",
       "1               3.83      241.0  ...   \n",
       "2               3.93      512.0  ...   \n",
       "3               4.15      170.0  ...   \n",
       "4               4.09      176.0  ...   \n",
       "...              ...        ...  ...   \n",
       "5192            2.93      324.0  ...   \n",
       "5193            3.70      175.0  ...   \n",
       "5194            3.82      198.0  ...   \n",
       "5195            4.51      531.0  ...   \n",
       "5196            0.00      210.0  ...   \n",
       "\n",
       "                                     title_and_subtitle  \\\n",
       "0                                                Gilead   \n",
       "1                                 Spider's Web: A Novel   \n",
       "2                                        Rage of angels   \n",
       "3                                        The Four Loves   \n",
       "4                                   The Problem of Pain   \n",
       "...                                                 ...   \n",
       "5192                                  Mistaken Identity   \n",
       "5193                                Journey to the East   \n",
       "5194  The Monk Who Sold His Ferrari: A Fable About F...   \n",
       "5195     I Am that: Talks with Sri Nisargadatta Maharaj   \n",
       "5196                           The Berlin Phenomenology   \n",
       "\n",
       "                                     tagged_description simple_categories  \\\n",
       "0     9780002005883 A NOVEL THAT READERS and critics...           Fiction   \n",
       "1     9780002261982 A new 'Christie for Christmas' -...           Fiction   \n",
       "2     9780006178736 A memorable, mesmerizing heroine...           Fiction   \n",
       "3     9780006280897 Lewis' work on the nature of lov...        Nonfiction   \n",
       "4     9780006280934 \"In The Problem of Pain, C.S. Le...        Nonfiction   \n",
       "...                                                 ...               ...   \n",
       "5192  9788172235222 On A Train Journey Home To North...           Fiction   \n",
       "5193  9788173031014 This book tells the tale of a ma...        Nonfiction   \n",
       "5194  9788179921623 Wisdom to Create a Life of Passi...           Fiction   \n",
       "5195  9788185300535 This collection of the timeless ...        Nonfiction   \n",
       "5196  9789027712059 Since the three volume edition o...        Nonfiction   \n",
       "\n",
       "         anger   disgust      fear       joy   sadness  surprise   neutral  \n",
       "0     0.064134  0.273592  0.928168  0.932798  0.646216  0.967158  0.729603  \n",
       "1     0.612618  0.348285  0.942528  0.704422  0.887940  0.111690  0.252545  \n",
       "2     0.064134  0.104007  0.972321  0.767237  0.549477  0.111690  0.078765  \n",
       "3     0.351483  0.150723  0.360706  0.251881  0.732685  0.111690  0.078765  \n",
       "4     0.081413  0.184496  0.095043  0.040564  0.884389  0.475881  0.078765  \n",
       "...        ...       ...       ...       ...       ...       ...       ...  \n",
       "5192  0.148209  0.030643  0.919165  0.255170  0.853722  0.980877  0.030656  \n",
       "5193  0.064134  0.114383  0.051363  0.400263  0.883198  0.111690  0.227765  \n",
       "5194  0.009997  0.009929  0.339217  0.947779  0.375755  0.066685  0.057625  \n",
       "5195  0.064134  0.104007  0.459270  0.759456  0.951104  0.368112  0.078765  \n",
       "5196  0.064134  0.104007  0.051363  0.958549  0.915193  0.111690  0.078765  \n",
       "\n",
       "[5197 rows x 21 columns]"
      ]
     },
     "execution_count": 25,
     "metadata": {},
     "output_type": "execute_result"
    }
   ],
   "source": [
    "books"
   ]
  },
  {
   "cell_type": "code",
   "execution_count": 26,
   "id": "27610ae3dbae074",
   "metadata": {
    "ExecuteTime": {
     "end_time": "2024-12-19T13:01:50.727604Z",
     "start_time": "2024-12-19T13:01:50.640657Z"
    }
   },
   "outputs": [],
   "source": [
    "books.to_csv(\"books_with_emotions.csv\", index = False)"
   ]
  }
 ],
 "metadata": {
  "kernelspec": {
   "display_name": "Python 3",
   "language": "python",
   "name": "python3"
  },
  "language_info": {
   "codemirror_mode": {
    "name": "ipython",
    "version": 2
   },
   "file_extension": ".py",
   "mimetype": "text/x-python",
   "name": "python",
   "nbconvert_exporter": "python",
   "pygments_lexer": "ipython2",
   "version": "2.7.6"
  }
 },
 "nbformat": 4,
 "nbformat_minor": 5
}
